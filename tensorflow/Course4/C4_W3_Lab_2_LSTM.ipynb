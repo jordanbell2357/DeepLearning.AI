{
  "cells": [
    {
      "cell_type": "markdown",
      "metadata": {
        "id": "view-in-github",
        "colab_type": "text"
      },
      "source": [
        "<a href=\"https://colab.research.google.com/github/jordanbell2357/DeepLearning.AI/blob/main/Course4/C4_W3_Lab_2_LSTM.ipynb\" target=\"_parent\"><img src=\"https://colab.research.google.com/assets/colab-badge.svg\" alt=\"Open In Colab\"/></a>"
      ]
    },
    {
      "cell_type": "markdown",
      "metadata": {
        "id": "sV_nvXSQGJPK"
      },
      "source": [
        "# Ungraded Lab: Using a multi-layer LSTM for forecasting\n",
        "\n",
        "In this lab, you will use the same RNN architecure in the first lab but will instead stack [LSTM](https://www.tensorflow.org/api_docs/python/tf/keras/layers/LSTM) layers instead of `SimpleRNN`."
      ]
    },
    {
      "cell_type": "markdown",
      "metadata": {
        "id": "3IMbAWETGOWD"
      },
      "source": [
        "## Imports"
      ]
    },
    {
      "cell_type": "code",
      "execution_count": 1,
      "metadata": {
        "id": "BOjujz601HcS"
      },
      "outputs": [],
      "source": [
        "import tensorflow as tf\n",
        "import numpy as np\n",
        "import matplotlib.pyplot as plt"
      ]
    },
    {
      "cell_type": "markdown",
      "metadata": {
        "id": "kD7RQQ0xGQVH"
      },
      "source": [
        "## Utilities"
      ]
    },
    {
      "cell_type": "code",
      "execution_count": 2,
      "metadata": {
        "id": "Zswl7jRtGzkk"
      },
      "outputs": [],
      "source": [
        "def plot_series(time, series, format=\"-\", start=0, end=None):\n",
        "    \"\"\"\n",
        "    Visualizes time series data\n",
        "\n",
        "    Args:\n",
        "      time (array of int) - contains the time steps\n",
        "      series (array of int) - contains the measurements for each time step\n",
        "      format - line style when plotting the graph\n",
        "      start - first time step to plot\n",
        "      end - last time step to plot\n",
        "    \"\"\"\n",
        "\n",
        "    # Setup dimensions of the graph figure\n",
        "    plt.figure(figsize=(10, 6))\n",
        "\n",
        "    if type(series) is tuple:\n",
        "\n",
        "      for series_num in series:\n",
        "        # Plot the time series data\n",
        "        plt.plot(time[start:end], series_num[start:end], format)\n",
        "\n",
        "    else:\n",
        "      # Plot the time series data\n",
        "      plt.plot(time[start:end], series[start:end], format)\n",
        "\n",
        "    # Label the x-axis\n",
        "    plt.xlabel(\"Time\")\n",
        "\n",
        "    # Label the y-axis\n",
        "    plt.ylabel(\"Value\")\n",
        "\n",
        "    # Overlay a grid on the graph\n",
        "    plt.grid(True)\n",
        "\n",
        "    # Draw the graph on screen\n",
        "    plt.show()\n",
        "\n",
        "def trend(time, slope=0):\n",
        "    \"\"\"\n",
        "    Generates synthetic data that follows a straight line given a slope value.\n",
        "\n",
        "    Args:\n",
        "      time (array of int) - contains the time steps\n",
        "      slope (float) - determines the direction and steepness of the line\n",
        "\n",
        "    Returns:\n",
        "      series (array of float) - measurements that follow a straight line\n",
        "    \"\"\"\n",
        "\n",
        "    # Compute the linear series given the slope\n",
        "    series = slope * time\n",
        "\n",
        "    return series\n",
        "\n",
        "def seasonal_pattern(season_time):\n",
        "    \"\"\"\n",
        "    Just an arbitrary pattern, you can change it if you wish\n",
        "\n",
        "    Args:\n",
        "      season_time (array of float) - contains the measurements per time step\n",
        "\n",
        "    Returns:\n",
        "      data_pattern (array of float) -  contains revised measurement values according\n",
        "                                  to the defined pattern\n",
        "    \"\"\"\n",
        "\n",
        "    # Generate the values using an arbitrary pattern\n",
        "    data_pattern = np.where(season_time < 0.4,\n",
        "                    np.cos(season_time * 2 * np.pi),\n",
        "                    1 / np.exp(3 * season_time))\n",
        "\n",
        "    return data_pattern\n",
        "\n",
        "def seasonality(time, period, amplitude=1, phase=0):\n",
        "    \"\"\"\n",
        "    Repeats the same pattern at each period\n",
        "\n",
        "    Args:\n",
        "      time (array of int) - contains the time steps\n",
        "      period (int) - number of time steps before the pattern repeats\n",
        "      amplitude (int) - peak measured value in a period\n",
        "      phase (int) - number of time steps to shift the measured values\n",
        "\n",
        "    Returns:\n",
        "      data_pattern (array of float) - seasonal data scaled by the defined amplitude\n",
        "    \"\"\"\n",
        "\n",
        "    # Define the measured values per period\n",
        "    season_time = ((time + phase) % period) / period\n",
        "\n",
        "    # Generates the seasonal data scaled by the defined amplitude\n",
        "    data_pattern = amplitude * seasonal_pattern(season_time)\n",
        "\n",
        "    return data_pattern\n",
        "\n",
        "def noise(time, noise_level=1, seed=None):\n",
        "    \"\"\"Generates a normally distributed noisy signal\n",
        "\n",
        "    Args:\n",
        "      time (array of int) - contains the time steps\n",
        "      noise_level (float) - scaling factor for the generated signal\n",
        "      seed (int) - number generator seed for repeatability\n",
        "\n",
        "    Returns:\n",
        "      noise (array of float) - the noisy signal\n",
        "    \"\"\"\n",
        "\n",
        "    # Initialize the random number generator\n",
        "    rnd = np.random.RandomState(seed)\n",
        "\n",
        "    # Generate a random number for each time step and scale by the noise level\n",
        "    noise = rnd.randn(len(time)) * noise_level\n",
        "\n",
        "    return noise"
      ]
    },
    {
      "cell_type": "markdown",
      "metadata": {
        "id": "yxNyeFWjGSdj"
      },
      "source": [
        "## Generate the Synthetic Data"
      ]
    },
    {
      "cell_type": "code",
      "execution_count": 3,
      "metadata": {
        "id": "KYEUfDbdpHPm",
        "colab": {
          "base_uri": "https://localhost:8080/",
          "height": 542
        },
        "outputId": "b7e51a89-f589-4967-be33-dad6c806e51a"
      },
      "outputs": [
        {
          "output_type": "display_data",
          "data": {
            "text/plain": [
              "<Figure size 1000x600 with 1 Axes>"
            ],
            "image/png": "[encoded data removed]"
          },
          "metadata": {}
        }
      ],
      "source": [
        "# Parameters\n",
        "time = np.arange(4 * 365 + 1, dtype=\"float32\")\n",
        "baseline = 10\n",
        "amplitude = 40\n",
        "slope = 0.05\n",
        "noise_level = 5\n",
        "\n",
        "# Create the series\n",
        "series = baseline + trend(time, slope) + seasonality(time, period=365, amplitude=amplitude)\n",
        "\n",
        "# Update with noise\n",
        "series += noise(time, noise_level, seed=42)\n",
        "\n",
        "# Plot the results\n",
        "plot_series(time, series)"
      ]
    },
    {
      "cell_type": "markdown",
      "metadata": {
        "id": "MYKCvv-eGWRc"
      },
      "source": [
        "## Split the Dataset"
      ]
    },
    {
      "cell_type": "code",
      "execution_count": 4,
      "metadata": {
        "id": "hpp0slenpKVD"
      },
      "outputs": [],
      "source": [
        "# Define the split time\n",
        "split_time = 1000\n",
        "\n",
        "# Get the train set\n",
        "time_train = time[:split_time]\n",
        "x_train = series[:split_time]\n",
        "\n",
        "# Get the validation set\n",
        "time_valid = time[split_time:]\n",
        "x_valid = series[split_time:]"
      ]
    },
    {
      "cell_type": "markdown",
      "metadata": {
        "id": "cktHz9aOGYtV"
      },
      "source": [
        "## Prepare Features and Labels"
      ]
    },
    {
      "cell_type": "code",
      "execution_count": 5,
      "metadata": {
        "id": "G_j_2_Mqwn7-"
      },
      "outputs": [],
      "source": [
        "# Parameters\n",
        "window_size = 20\n",
        "batch_size = 32\n",
        "shuffle_buffer_size = 1000"
      ]
    },
    {
      "cell_type": "code",
      "execution_count": 6,
      "metadata": {
        "id": "4sTTIOCbyShY"
      },
      "outputs": [],
      "source": [
        "def windowed_dataset(series, window_size, batch_size, shuffle_buffer):\n",
        "    \"\"\"Generates dataset windows\n",
        "\n",
        "    Args:\n",
        "      series (array of float) - contains the values of the time series\n",
        "      window_size (int) - the number of time steps to include in the feature\n",
        "      batch_size (int) - the batch size\n",
        "      shuffle_buffer(int) - buffer size to use for the shuffle method\n",
        "\n",
        "    Returns:\n",
        "      dataset (TF Dataset) - TF Dataset containing time windows\n",
        "    \"\"\"\n",
        "\n",
        "    # Generate a TF Dataset from the series values\n",
        "    dataset = tf.data.Dataset.from_tensor_slices(series)\n",
        "\n",
        "    # Window the data but only take those with the specified size\n",
        "    dataset = dataset.window(window_size + 1, shift=1, drop_remainder=True)\n",
        "\n",
        "    # Flatten the windows by putting its elements in a single batch\n",
        "    dataset = dataset.flat_map(lambda window: window.batch(window_size + 1))\n",
        "\n",
        "    # Create tuples with features and labels\n",
        "    dataset = dataset.map(lambda window: (window[:-1], window[-1]))\n",
        "\n",
        "    # Shuffle the windows\n",
        "    dataset = dataset.shuffle(shuffle_buffer)\n",
        "\n",
        "    # Create batches of windows\n",
        "    dataset = dataset.batch(batch_size).prefetch(1)\n",
        "\n",
        "    return dataset"
      ]
    },
    {
      "cell_type": "code",
      "execution_count": 7,
      "metadata": {
        "id": "vGj5-InSwtQQ"
      },
      "outputs": [],
      "source": [
        "# Generate the dataset windows\n",
        "dataset = windowed_dataset(x_train, window_size, batch_size, shuffle_buffer_size)"
      ]
    },
    {
      "cell_type": "markdown",
      "metadata": {
        "id": "p9-Ke8ZaGcjd"
      },
      "source": [
        "## Build the Model\n",
        "\n",
        "As mentioned, you will swap `SimpleRNN` for `LSTM` in this lab. It is also set as bidirectional below but feel free to revise later and see what results you get. LSTMs are much more complex in their internal architecture than simpleRNNs. It implements a cell state that allows it to remember sequences better than simple implementations. This added complexity results in a bigger set of parameters to train and you'll see that when you print the model summary below."
      ]
    },
    {
      "cell_type": "code",
      "execution_count": 8,
      "metadata": {
        "id": "A1Hl39rklkLm",
        "colab": {
          "base_uri": "https://localhost:8080/"
        },
        "outputId": "7b293dba-1473-4577-f00d-426b6bf8032a"
      },
      "outputs": [
        {
          "output_type": "stream",
          "name": "stdout",
          "text": [
            "Model: \"sequential\"\n",
            "_________________________________________________________________\n",
            " Layer (type)                Output Shape              Param #   \n",
            "=================================================================\n",
            " lambda (Lambda)             (None, 20, 1)             0         \n",
            "                                                                 \n",
            " bidirectional (Bidirectiona  (None, 20, 64)           8704      \n",
            " l)                                                              \n",
            "                                                                 \n",
            " bidirectional_1 (Bidirectio  (None, 64)               24832     \n",
            " nal)                                                            \n",
            "                                                                 \n",
            " dense (Dense)               (None, 1)                 65        \n",
            "                                                                 \n",
            " lambda_1 (Lambda)           (None, 1)                 0         \n",
            "                                                                 \n",
            "=================================================================\n",
            "Total params: 33,601\n",
            "Trainable params: 33,601\n",
            "Non-trainable params: 0\n",
            "_________________________________________________________________\n"
          ]
        }
      ],
      "source": [
        "# Build the Model\n",
        "model_tune = tf.keras.models.Sequential([\n",
        "  tf.keras.layers.Lambda(lambda x: tf.expand_dims(x, axis=-1),\n",
        "                      input_shape=[window_size]),\n",
        "    tf.keras.layers.Bidirectional(tf.keras.layers.LSTM(32, return_sequences=True)),\n",
        "  tf.keras.layers.Bidirectional(tf.keras.layers.LSTM(32)),\n",
        "  tf.keras.layers.Dense(1),\n",
        "  tf.keras.layers.Lambda(lambda x: x * 100.0)\n",
        "])\n",
        "\n",
        "# Print the model summary\n",
        "model_tune.summary()"
      ]
    },
    {
      "cell_type": "markdown",
      "metadata": {
        "id": "FHaFblbwq0GV"
      },
      "source": [
        "## Tune the Learning Rate\n",
        "\n",
        "As usual, you will pick a learning rate by running the tuning code below."
      ]
    },
    {
      "cell_type": "code",
      "execution_count": 9,
      "metadata": {
        "id": "qE7al18qw48G",
        "colab": {
          "base_uri": "https://localhost:8080/"
        },
        "outputId": "a2b36d33-97e9-450e-dd9d-28e8726f2050"
      },
      "outputs": [
        {
          "output_type": "stream",
          "name": "stdout",
          "text": [
            "Epoch 1/100\n",
            "31/31 [==============================] - 16s 19ms/step - loss: 37.8269 - lr: 1.0000e-08\n",
            "Epoch 2/100\n",
            "31/31 [==============================] - 0s 9ms/step - loss: 36.6736 - lr: 1.1220e-08\n",
            "Epoch 3/100\n",
            "31/31 [==============================] - 0s 9ms/step - loss: 35.2388 - lr: 1.2589e-08\n",
            "Epoch 4/100\n",
            "31/31 [==============================] - 0s 9ms/step - loss: 33.5946 - lr: 1.4125e-08\n",
            "Epoch 5/100\n",
            "31/31 [==============================] - 0s 9ms/step - loss: 31.7662 - lr: 1.5849e-08\n",
            "Epoch 6/100\n",
            "31/31 [==============================] - 0s 9ms/step - loss: 29.8886 - lr: 1.7783e-08\n",
            "Epoch 7/100\n",
            "31/31 [==============================] - 0s 9ms/step - loss: 28.1968 - lr: 1.9953e-08\n",
            "Epoch 8/100\n",
            "31/31 [==============================] - 1s 12ms/step - loss: 26.8470 - lr: 2.2387e-08\n",
            "Epoch 9/100\n",
            "31/31 [==============================] - 1s 13ms/step - loss: 25.8371 - lr: 2.5119e-08\n",
            "Epoch 10/100\n",
            "31/31 [==============================] - 1s 13ms/step - loss: 25.0442 - lr: 2.8184e-08\n",
            "Epoch 11/100\n",
            "31/31 [==============================] - 1s 11ms/step - loss: 24.3587 - lr: 3.1623e-08\n",
            "Epoch 12/100\n",
            "31/31 [==============================] - 0s 9ms/step - loss: 23.7482 - lr: 3.5481e-08\n",
            "Epoch 13/100\n",
            "31/31 [==============================] - 0s 9ms/step - loss: 23.1544 - lr: 3.9811e-08\n",
            "Epoch 14/100\n",
            "31/31 [==============================] - 0s 9ms/step - loss: 22.5917 - lr: 4.4668e-08\n",
            "Epoch 15/100\n",
            "31/31 [==============================] - 0s 9ms/step - loss: 22.0167 - lr: 5.0119e-08\n",
            "Epoch 16/100\n",
            "31/31 [==============================] - 0s 9ms/step - loss: 21.4349 - lr: 5.6234e-08\n",
            "Epoch 17/100\n",
            "31/31 [==============================] - 0s 9ms/step - loss: 20.8498 - lr: 6.3096e-08\n",
            "Epoch 18/100\n",
            "31/31 [==============================] - 0s 8ms/step - loss: 20.2577 - lr: 7.0795e-08\n",
            "Epoch 19/100\n",
            "31/31 [==============================] - 0s 9ms/step - loss: 19.6614 - lr: 7.9433e-08\n",
            "Epoch 20/100\n",
            "31/31 [==============================] - 0s 9ms/step - loss: 19.0783 - lr: 8.9125e-08\n",
            "Epoch 21/100\n",
            "31/31 [==============================] - 0s 9ms/step - loss: 18.5464 - lr: 1.0000e-07\n",
            "Epoch 22/100\n",
            "31/31 [==============================] - 0s 9ms/step - loss: 18.0495 - lr: 1.1220e-07\n",
            "Epoch 23/100\n",
            "31/31 [==============================] - 0s 9ms/step - loss: 17.6021 - lr: 1.2589e-07\n",
            "Epoch 24/100\n",
            "31/31 [==============================] - 0s 9ms/step - loss: 17.1672 - lr: 1.4125e-07\n",
            "Epoch 25/100\n",
            "31/31 [==============================] - 0s 9ms/step - loss: 16.7153 - lr: 1.5849e-07\n",
            "Epoch 26/100\n",
            "31/31 [==============================] - 0s 10ms/step - loss: 16.2505 - lr: 1.7783e-07\n",
            "Epoch 27/100\n",
            "31/31 [==============================] - 0s 13ms/step - loss: 15.7750 - lr: 1.9953e-07\n",
            "Epoch 28/100\n",
            "31/31 [==============================] - 1s 12ms/step - loss: 15.2637 - lr: 2.2387e-07\n",
            "Epoch 29/100\n",
            "31/31 [==============================] - 1s 13ms/step - loss: 14.7113 - lr: 2.5119e-07\n",
            "Epoch 30/100\n",
            "31/31 [==============================] - 1s 13ms/step - loss: 14.1422 - lr: 2.8184e-07\n",
            "Epoch 31/100\n",
            "31/31 [==============================] - 0s 9ms/step - loss: 13.5380 - lr: 3.1623e-07\n",
            "Epoch 32/100\n",
            "31/31 [==============================] - 0s 9ms/step - loss: 12.8549 - lr: 3.5481e-07\n",
            "Epoch 33/100\n",
            "31/31 [==============================] - 0s 11ms/step - loss: 12.0907 - lr: 3.9811e-07\n",
            "Epoch 34/100\n",
            "31/31 [==============================] - 1s 13ms/step - loss: 11.2617 - lr: 4.4668e-07\n",
            "Epoch 35/100\n",
            "31/31 [==============================] - 1s 12ms/step - loss: 10.3437 - lr: 5.0119e-07\n",
            "Epoch 36/100\n",
            "31/31 [==============================] - 1s 12ms/step - loss: 9.3353 - lr: 5.6234e-07\n",
            "Epoch 37/100\n",
            "31/31 [==============================] - 0s 9ms/step - loss: 8.3885 - lr: 6.3096e-07\n",
            "Epoch 38/100\n",
            "31/31 [==============================] - 0s 9ms/step - loss: 7.6391 - lr: 7.0795e-07\n",
            "Epoch 39/100\n",
            "31/31 [==============================] - 0s 9ms/step - loss: 7.1761 - lr: 7.9433e-07\n",
            "Epoch 40/100\n",
            "31/31 [==============================] - 0s 8ms/step - loss: 6.8001 - lr: 8.9125e-07\n",
            "Epoch 41/100\n",
            "31/31 [==============================] - 0s 10ms/step - loss: 6.6059 - lr: 1.0000e-06\n",
            "Epoch 42/100\n",
            "31/31 [==============================] - 0s 9ms/step - loss: 6.4569 - lr: 1.1220e-06\n",
            "Epoch 43/100\n",
            "31/31 [==============================] - 0s 9ms/step - loss: 6.3005 - lr: 1.2589e-06\n",
            "Epoch 44/100\n",
            "31/31 [==============================] - 0s 8ms/step - loss: 6.1627 - lr: 1.4125e-06\n",
            "Epoch 45/100\n",
            "31/31 [==============================] - 0s 9ms/step - loss: 6.0558 - lr: 1.5849e-06\n",
            "Epoch 46/100\n",
            "31/31 [==============================] - 0s 9ms/step - loss: 6.2151 - lr: 1.7783e-06\n",
            "Epoch 47/100\n",
            "31/31 [==============================] - 0s 9ms/step - loss: 5.9012 - lr: 1.9953e-06\n",
            "Epoch 48/100\n",
            "31/31 [==============================] - 0s 9ms/step - loss: 5.9182 - lr: 2.2387e-06\n",
            "Epoch 49/100\n",
            "31/31 [==============================] - 0s 9ms/step - loss: 5.8204 - lr: 2.5119e-06\n",
            "Epoch 50/100\n",
            "31/31 [==============================] - 0s 10ms/step - loss: 5.7594 - lr: 2.8184e-06\n",
            "Epoch 51/100\n",
            "31/31 [==============================] - 0s 9ms/step - loss: 5.6425 - lr: 3.1623e-06\n",
            "Epoch 52/100\n",
            "31/31 [==============================] - 0s 9ms/step - loss: 5.5742 - lr: 3.5481e-06\n",
            "Epoch 53/100\n",
            "31/31 [==============================] - 0s 9ms/step - loss: 5.4024 - lr: 3.9811e-06\n",
            "Epoch 54/100\n",
            "31/31 [==============================] - 0s 9ms/step - loss: 5.4787 - lr: 4.4668e-06\n",
            "Epoch 55/100\n",
            "31/31 [==============================] - 0s 9ms/step - loss: 5.2655 - lr: 5.0119e-06\n",
            "Epoch 56/100\n",
            "31/31 [==============================] - 0s 9ms/step - loss: 5.4848 - lr: 5.6234e-06\n",
            "Epoch 57/100\n",
            "31/31 [==============================] - 0s 9ms/step - loss: 5.0848 - lr: 6.3096e-06\n",
            "Epoch 58/100\n",
            "31/31 [==============================] - 0s 9ms/step - loss: 4.9896 - lr: 7.0795e-06\n",
            "Epoch 59/100\n",
            "31/31 [==============================] - 0s 9ms/step - loss: 5.2428 - lr: 7.9433e-06\n",
            "Epoch 60/100\n",
            "31/31 [==============================] - 0s 12ms/step - loss: 5.1151 - lr: 8.9125e-06\n",
            "Epoch 61/100\n",
            "31/31 [==============================] - 1s 14ms/step - loss: 4.9444 - lr: 1.0000e-05\n",
            "Epoch 62/100\n",
            "31/31 [==============================] - 0s 9ms/step - loss: 4.8739 - lr: 1.1220e-05\n",
            "Epoch 63/100\n",
            "31/31 [==============================] - 0s 9ms/step - loss: 4.9459 - lr: 1.2589e-05\n",
            "Epoch 64/100\n",
            "31/31 [==============================] - 0s 9ms/step - loss: 5.1453 - lr: 1.4125e-05\n",
            "Epoch 65/100\n",
            "31/31 [==============================] - 0s 8ms/step - loss: 4.9249 - lr: 1.5849e-05\n",
            "Epoch 66/100\n",
            "31/31 [==============================] - 0s 9ms/step - loss: 5.4470 - lr: 1.7783e-05\n",
            "Epoch 67/100\n",
            "31/31 [==============================] - 0s 9ms/step - loss: 6.0216 - lr: 1.9953e-05\n",
            "Epoch 68/100\n",
            "31/31 [==============================] - 0s 9ms/step - loss: 5.4614 - lr: 2.2387e-05\n",
            "Epoch 69/100\n",
            "31/31 [==============================] - 0s 9ms/step - loss: 4.9614 - lr: 2.5119e-05\n",
            "Epoch 70/100\n",
            "31/31 [==============================] - 0s 9ms/step - loss: 5.3912 - lr: 2.8184e-05\n",
            "Epoch 71/100\n",
            "31/31 [==============================] - 0s 9ms/step - loss: 5.2883 - lr: 3.1623e-05\n",
            "Epoch 72/100\n",
            "31/31 [==============================] - 0s 9ms/step - loss: 5.8650 - lr: 3.5481e-05\n",
            "Epoch 73/100\n",
            "31/31 [==============================] - 0s 9ms/step - loss: 5.1459 - lr: 3.9811e-05\n",
            "Epoch 74/100\n",
            "31/31 [==============================] - 0s 9ms/step - loss: 5.4135 - lr: 4.4668e-05\n",
            "Epoch 75/100\n",
            "31/31 [==============================] - 0s 9ms/step - loss: 5.7142 - lr: 5.0119e-05\n",
            "Epoch 76/100\n",
            "31/31 [==============================] - 0s 9ms/step - loss: 5.3771 - lr: 5.6234e-05\n",
            "Epoch 77/100\n",
            "31/31 [==============================] - 0s 9ms/step - loss: 5.0967 - lr: 6.3096e-05\n",
            "Epoch 78/100\n",
            "31/31 [==============================] - 0s 9ms/step - loss: 5.2605 - lr: 7.0795e-05\n",
            "Epoch 79/100\n",
            "31/31 [==============================] - 0s 9ms/step - loss: 5.5547 - lr: 7.9433e-05\n",
            "Epoch 80/100\n",
            "31/31 [==============================] - 0s 9ms/step - loss: 5.0025 - lr: 8.9125e-05\n",
            "Epoch 81/100\n",
            "31/31 [==============================] - 0s 9ms/step - loss: 5.1919 - lr: 1.0000e-04\n",
            "Epoch 82/100\n",
            "31/31 [==============================] - 0s 9ms/step - loss: 8.2329 - lr: 1.1220e-04\n",
            "Epoch 83/100\n",
            "31/31 [==============================] - 0s 10ms/step - loss: 10.3978 - lr: 1.2589e-04\n",
            "Epoch 84/100\n",
            "31/31 [==============================] - 0s 10ms/step - loss: 6.7133 - lr: 1.4125e-04\n",
            "Epoch 85/100\n",
            "31/31 [==============================] - 1s 12ms/step - loss: 8.7859 - lr: 1.5849e-04\n",
            "Epoch 86/100\n",
            "31/31 [==============================] - 1s 13ms/step - loss: 5.9252 - lr: 1.7783e-04\n",
            "Epoch 87/100\n",
            "31/31 [==============================] - 1s 13ms/step - loss: 5.9508 - lr: 1.9953e-04\n",
            "Epoch 88/100\n",
            "31/31 [==============================] - 1s 12ms/step - loss: 9.8549 - lr: 2.2387e-04\n",
            "Epoch 89/100\n",
            "31/31 [==============================] - 0s 9ms/step - loss: 7.5466 - lr: 2.5119e-04\n",
            "Epoch 90/100\n",
            "31/31 [==============================] - 0s 9ms/step - loss: 6.4944 - lr: 2.8184e-04\n",
            "Epoch 91/100\n",
            "31/31 [==============================] - 0s 9ms/step - loss: 8.4369 - lr: 3.1623e-04\n",
            "Epoch 92/100\n",
            "31/31 [==============================] - 0s 9ms/step - loss: 9.4551 - lr: 3.5481e-04\n",
            "Epoch 93/100\n",
            "31/31 [==============================] - 0s 9ms/step - loss: 7.2434 - lr: 3.9811e-04\n",
            "Epoch 94/100\n",
            "31/31 [==============================] - 0s 9ms/step - loss: 8.5891 - lr: 4.4668e-04\n",
            "Epoch 95/100\n",
            "31/31 [==============================] - 0s 8ms/step - loss: 11.4730 - lr: 5.0119e-04\n",
            "Epoch 96/100\n",
            "31/31 [==============================] - 0s 9ms/step - loss: 12.6870 - lr: 5.6234e-04\n",
            "Epoch 97/100\n",
            "31/31 [==============================] - 0s 9ms/step - loss: 10.2842 - lr: 6.3096e-04\n",
            "Epoch 98/100\n",
            "31/31 [==============================] - 0s 9ms/step - loss: 9.1860 - lr: 7.0795e-04\n",
            "Epoch 99/100\n",
            "31/31 [==============================] - 0s 9ms/step - loss: 10.9904 - lr: 7.9433e-04\n",
            "Epoch 100/100\n",
            "31/31 [==============================] - 0s 9ms/step - loss: 11.0333 - lr: 8.9125e-04\n"
          ]
        }
      ],
      "source": [
        "# Set the learning rate scheduler\n",
        "lr_schedule = tf.keras.callbacks.LearningRateScheduler(\n",
        "    lambda epoch: 1e-8 * 10**(epoch / 20))\n",
        "\n",
        "# Initialize the optimizer\n",
        "optimizer = tf.keras.optimizers.SGD(momentum=0.9)\n",
        "\n",
        "# Set the training parameters\n",
        "model_tune.compile(loss=tf.keras.losses.Huber(), optimizer=optimizer)\n",
        "\n",
        "# Train the model\n",
        "history = model_tune.fit(dataset, epochs=100, callbacks=[lr_schedule])"
      ]
    },
    {
      "cell_type": "code",
      "execution_count": 10,
      "metadata": {
        "id": "AkBsrsXMzoWR",
        "colab": {
          "base_uri": "https://localhost:8080/",
          "height": 558
        },
        "outputId": "088f046b-5137-4d28-c456-e4c44f06b0db"
      },
      "outputs": [
        {
          "output_type": "execute_result",
          "data": {
            "text/plain": [
              "(1e-08, 0.001, 0.0, 30.0)"
            ]
          },
          "metadata": {},
          "execution_count": 10
        },
        {
          "output_type": "display_data",
          "data": {
            "text/plain": [
              "<Figure size 1000x600 with 1 Axes>"
            ],
            "image/png": "[encoded data removed]"
          },
          "metadata": {}
        }
      ],
      "source": [
        "# Define the learning rate array\n",
        "lrs = 1e-8 * (10 ** (np.arange(100) / 20))\n",
        "\n",
        "# Set the figure size\n",
        "plt.figure(figsize=(10, 6))\n",
        "\n",
        "# Set the grid\n",
        "plt.grid(True)\n",
        "\n",
        "# Plot the loss in log scale\n",
        "plt.semilogx(lrs, history.history[\"loss\"])\n",
        "\n",
        "# Increase the tickmarks size\n",
        "plt.tick_params('both', length=10, width=1, which='both')\n",
        "\n",
        "# Set the plot boundaries\n",
        "plt.axis([1e-8, 1e-3, 0, 30])"
      ]
    },
    {
      "cell_type": "markdown",
      "metadata": {
        "id": "i-lKNp4pq_w8"
      },
      "source": [
        "## Train the Model\n",
        "\n",
        "You can then proceed to train the model with your chosen learning rate.\n",
        "\n",
        "*Tip: When experimenting and you find yourself running different iterations of a model, you may want to use the [`clear_session()`](https://www.tensorflow.org/api_docs/python/tf/keras/backend/clear_session) method to declutter memory used by Keras. This is added in the first line below.*\n"
      ]
    },
    {
      "cell_type": "code",
      "execution_count": 11,
      "metadata": {
        "id": "4uh-97bpLZCA",
        "colab": {
          "base_uri": "https://localhost:8080/"
        },
        "outputId": "f7151730-fb7f-4e7c-962c-3e895c7f6f3d"
      },
      "outputs": [
        {
          "output_type": "stream",
          "name": "stdout",
          "text": [
            "Epoch 1/100\n",
            "31/31 [==============================] - 8s 22ms/step - loss: 22.2200 - mae: 22.7141\n",
            "Epoch 2/100\n",
            "31/31 [==============================] - 0s 10ms/step - loss: 13.6456 - mae: 14.1408\n",
            "Epoch 3/100\n",
            "31/31 [==============================] - 0s 9ms/step - loss: 10.7656 - mae: 11.2489\n",
            "Epoch 4/100\n",
            "31/31 [==============================] - 0s 10ms/step - loss: 8.7027 - mae: 9.1894\n",
            "Epoch 5/100\n",
            "31/31 [==============================] - 0s 9ms/step - loss: 7.7593 - mae: 8.2398\n",
            "Epoch 6/100\n",
            "31/31 [==============================] - 0s 9ms/step - loss: 7.3711 - mae: 7.8523\n",
            "Epoch 7/100\n",
            "31/31 [==============================] - 0s 9ms/step - loss: 7.0816 - mae: 7.5630\n",
            "Epoch 8/100\n",
            "31/31 [==============================] - 0s 10ms/step - loss: 6.9372 - mae: 7.4232\n",
            "Epoch 9/100\n",
            "31/31 [==============================] - 0s 9ms/step - loss: 6.7208 - mae: 7.1998\n",
            "Epoch 10/100\n",
            "31/31 [==============================] - 0s 9ms/step - loss: 6.6179 - mae: 7.1017\n",
            "Epoch 11/100\n",
            "31/31 [==============================] - 0s 9ms/step - loss: 6.5236 - mae: 7.0075\n",
            "Epoch 12/100\n",
            "31/31 [==============================] - 0s 9ms/step - loss: 6.2473 - mae: 6.7290\n",
            "Epoch 13/100\n",
            "31/31 [==============================] - 0s 9ms/step - loss: 6.3094 - mae: 6.7882\n",
            "Epoch 14/100\n",
            "31/31 [==============================] - 0s 9ms/step - loss: 5.9854 - mae: 6.4635\n",
            "Epoch 15/100\n",
            "31/31 [==============================] - 0s 10ms/step - loss: 6.0533 - mae: 6.5344\n",
            "Epoch 16/100\n",
            "31/31 [==============================] - 0s 9ms/step - loss: 6.0230 - mae: 6.5029\n",
            "Epoch 17/100\n",
            "31/31 [==============================] - 1s 14ms/step - loss: 5.8020 - mae: 6.2820\n",
            "Epoch 18/100\n",
            "31/31 [==============================] - 1s 15ms/step - loss: 5.7337 - mae: 6.2139\n",
            "Epoch 19/100\n",
            "31/31 [==============================] - 1s 13ms/step - loss: 5.7748 - mae: 6.2541\n",
            "Epoch 20/100\n",
            "31/31 [==============================] - 1s 11ms/step - loss: 5.8472 - mae: 6.3320\n",
            "Epoch 21/100\n",
            "31/31 [==============================] - 0s 9ms/step - loss: 5.7042 - mae: 6.1844\n",
            "Epoch 22/100\n",
            "31/31 [==============================] - 0s 9ms/step - loss: 5.6987 - mae: 6.1764\n",
            "Epoch 23/100\n",
            "31/31 [==============================] - 0s 9ms/step - loss: 5.7944 - mae: 6.2755\n",
            "Epoch 24/100\n",
            "31/31 [==============================] - 0s 9ms/step - loss: 5.6317 - mae: 6.1113\n",
            "Epoch 25/100\n",
            "31/31 [==============================] - 0s 9ms/step - loss: 5.6544 - mae: 6.1343\n",
            "Epoch 26/100\n",
            "31/31 [==============================] - 0s 9ms/step - loss: 5.4447 - mae: 5.9213\n",
            "Epoch 27/100\n",
            "31/31 [==============================] - 0s 10ms/step - loss: 5.3195 - mae: 5.7962\n",
            "Epoch 28/100\n",
            "31/31 [==============================] - 0s 9ms/step - loss: 5.3250 - mae: 5.8029\n",
            "Epoch 29/100\n",
            "31/31 [==============================] - 0s 9ms/step - loss: 5.2322 - mae: 5.7082\n",
            "Epoch 30/100\n",
            "31/31 [==============================] - 0s 9ms/step - loss: 5.2226 - mae: 5.7002\n",
            "Epoch 31/100\n",
            "31/31 [==============================] - 0s 9ms/step - loss: 5.1430 - mae: 5.6216\n",
            "Epoch 32/100\n",
            "31/31 [==============================] - 0s 10ms/step - loss: 5.2046 - mae: 5.6835\n",
            "Epoch 33/100\n",
            "31/31 [==============================] - 0s 10ms/step - loss: 5.1556 - mae: 5.6311\n",
            "Epoch 34/100\n",
            "31/31 [==============================] - 0s 9ms/step - loss: 5.1405 - mae: 5.6195\n",
            "Epoch 35/100\n",
            "31/31 [==============================] - 0s 9ms/step - loss: 5.1732 - mae: 5.6507\n",
            "Epoch 36/100\n",
            "31/31 [==============================] - 0s 9ms/step - loss: 5.1130 - mae: 5.5883\n",
            "Epoch 37/100\n",
            "31/31 [==============================] - 0s 9ms/step - loss: 5.2207 - mae: 5.7021\n",
            "Epoch 38/100\n",
            "31/31 [==============================] - 0s 9ms/step - loss: 4.9942 - mae: 5.4710\n",
            "Epoch 39/100\n",
            "31/31 [==============================] - 0s 9ms/step - loss: 4.9793 - mae: 5.4563\n",
            "Epoch 40/100\n",
            "31/31 [==============================] - 0s 11ms/step - loss: 4.9663 - mae: 5.4446\n",
            "Epoch 41/100\n",
            "31/31 [==============================] - 1s 13ms/step - loss: 4.9040 - mae: 5.3805\n",
            "Epoch 42/100\n",
            "31/31 [==============================] - 1s 14ms/step - loss: 5.0065 - mae: 5.4847\n",
            "Epoch 43/100\n",
            "31/31 [==============================] - 1s 12ms/step - loss: 4.9215 - mae: 5.3931\n",
            "Epoch 44/100\n",
            "31/31 [==============================] - 0s 9ms/step - loss: 4.8711 - mae: 5.3477\n",
            "Epoch 45/100\n",
            "31/31 [==============================] - 0s 9ms/step - loss: 4.9101 - mae: 5.3871\n",
            "Epoch 46/100\n",
            "31/31 [==============================] - 0s 10ms/step - loss: 5.0209 - mae: 5.4971\n",
            "Epoch 47/100\n",
            "31/31 [==============================] - 0s 9ms/step - loss: 4.9929 - mae: 5.4716\n",
            "Epoch 48/100\n",
            "31/31 [==============================] - 0s 9ms/step - loss: 4.8948 - mae: 5.3690\n",
            "Epoch 49/100\n",
            "31/31 [==============================] - 0s 9ms/step - loss: 5.0675 - mae: 5.5457\n",
            "Epoch 50/100\n",
            "31/31 [==============================] - 0s 9ms/step - loss: 5.1704 - mae: 5.6493\n",
            "Epoch 51/100\n",
            "31/31 [==============================] - 0s 9ms/step - loss: 4.9042 - mae: 5.3776\n",
            "Epoch 52/100\n",
            "31/31 [==============================] - 0s 9ms/step - loss: 4.8033 - mae: 5.2804\n",
            "Epoch 53/100\n",
            "31/31 [==============================] - 0s 9ms/step - loss: 4.7744 - mae: 5.2509\n",
            "Epoch 54/100\n",
            "31/31 [==============================] - 0s 9ms/step - loss: 4.9359 - mae: 5.4161\n",
            "Epoch 55/100\n",
            "31/31 [==============================] - 0s 9ms/step - loss: 4.9940 - mae: 5.4704\n",
            "Epoch 56/100\n",
            "31/31 [==============================] - 0s 9ms/step - loss: 4.8450 - mae: 5.3250\n",
            "Epoch 57/100\n",
            "31/31 [==============================] - 0s 9ms/step - loss: 4.7223 - mae: 5.1973\n",
            "Epoch 58/100\n",
            "31/31 [==============================] - 0s 9ms/step - loss: 4.7428 - mae: 5.2172\n",
            "Epoch 59/100\n",
            "31/31 [==============================] - 0s 9ms/step - loss: 4.9530 - mae: 5.4355\n",
            "Epoch 60/100\n",
            "31/31 [==============================] - 0s 10ms/step - loss: 4.9364 - mae: 5.4151\n",
            "Epoch 61/100\n",
            "31/31 [==============================] - 0s 9ms/step - loss: 4.7645 - mae: 5.2376\n",
            "Epoch 62/100\n",
            "31/31 [==============================] - 0s 10ms/step - loss: 4.6970 - mae: 5.1739\n",
            "Epoch 63/100\n",
            "31/31 [==============================] - 0s 9ms/step - loss: 4.8101 - mae: 5.2837\n",
            "Epoch 64/100\n",
            "31/31 [==============================] - 0s 10ms/step - loss: 4.7815 - mae: 5.2573\n",
            "Epoch 65/100\n",
            "31/31 [==============================] - 0s 9ms/step - loss: 4.7197 - mae: 5.2020\n",
            "Epoch 66/100\n",
            "31/31 [==============================] - 1s 14ms/step - loss: 4.7284 - mae: 5.2027\n",
            "Epoch 67/100\n",
            "31/31 [==============================] - 1s 13ms/step - loss: 4.7827 - mae: 5.2626\n",
            "Epoch 68/100\n",
            "31/31 [==============================] - 1s 12ms/step - loss: 4.6735 - mae: 5.1508\n",
            "Epoch 69/100\n",
            "31/31 [==============================] - 1s 12ms/step - loss: 4.7065 - mae: 5.1817\n",
            "Epoch 70/100\n",
            "31/31 [==============================] - 0s 10ms/step - loss: 4.6573 - mae: 5.1340\n",
            "Epoch 71/100\n",
            "31/31 [==============================] - 0s 10ms/step - loss: 4.6250 - mae: 5.1022\n",
            "Epoch 72/100\n",
            "31/31 [==============================] - 0s 10ms/step - loss: 4.6207 - mae: 5.0977\n",
            "Epoch 73/100\n",
            "31/31 [==============================] - 0s 10ms/step - loss: 4.7217 - mae: 5.2023\n",
            "Epoch 74/100\n",
            "31/31 [==============================] - 0s 9ms/step - loss: 4.6536 - mae: 5.1299\n",
            "Epoch 75/100\n",
            "31/31 [==============================] - 0s 10ms/step - loss: 4.7117 - mae: 5.1858\n",
            "Epoch 76/100\n",
            "31/31 [==============================] - 0s 9ms/step - loss: 4.6072 - mae: 5.0830\n",
            "Epoch 77/100\n",
            "31/31 [==============================] - 0s 9ms/step - loss: 4.5990 - mae: 5.0818\n",
            "Epoch 78/100\n",
            "31/31 [==============================] - 0s 9ms/step - loss: 4.6520 - mae: 5.1238\n",
            "Epoch 79/100\n",
            "31/31 [==============================] - 0s 11ms/step - loss: 4.8375 - mae: 5.3183\n",
            "Epoch 80/100\n",
            "31/31 [==============================] - 0s 9ms/step - loss: 4.9462 - mae: 5.4232\n",
            "Epoch 81/100\n",
            "31/31 [==============================] - 0s 10ms/step - loss: 4.5971 - mae: 5.0733\n",
            "Epoch 82/100\n",
            "31/31 [==============================] - 0s 9ms/step - loss: 4.6248 - mae: 5.1021\n",
            "Epoch 83/100\n",
            "31/31 [==============================] - 0s 10ms/step - loss: 4.6285 - mae: 5.1050\n",
            "Epoch 84/100\n",
            "31/31 [==============================] - 0s 9ms/step - loss: 4.6605 - mae: 5.1341\n",
            "Epoch 85/100\n",
            "31/31 [==============================] - 0s 9ms/step - loss: 4.6438 - mae: 5.1210\n",
            "Epoch 86/100\n",
            "31/31 [==============================] - 0s 9ms/step - loss: 4.7129 - mae: 5.1908\n",
            "Epoch 87/100\n",
            "31/31 [==============================] - 0s 9ms/step - loss: 4.6230 - mae: 5.0985\n",
            "Epoch 88/100\n",
            "31/31 [==============================] - 0s 10ms/step - loss: 4.6479 - mae: 5.1227\n",
            "Epoch 89/100\n",
            "31/31 [==============================] - 0s 9ms/step - loss: 4.5597 - mae: 5.0377\n",
            "Epoch 90/100\n",
            "31/31 [==============================] - 0s 9ms/step - loss: 4.6056 - mae: 5.0805\n",
            "Epoch 91/100\n",
            "31/31 [==============================] - 0s 9ms/step - loss: 4.5530 - mae: 5.0273\n",
            "Epoch 92/100\n",
            "31/31 [==============================] - 0s 10ms/step - loss: 4.5690 - mae: 5.0449\n",
            "Epoch 93/100\n",
            "31/31 [==============================] - 1s 13ms/step - loss: 4.5833 - mae: 5.0630\n",
            "Epoch 94/100\n",
            "31/31 [==============================] - 1s 12ms/step - loss: 4.5882 - mae: 5.0606\n",
            "Epoch 95/100\n",
            "31/31 [==============================] - 1s 13ms/step - loss: 4.5562 - mae: 5.0340\n",
            "Epoch 96/100\n",
            "31/31 [==============================] - 1s 11ms/step - loss: 4.6332 - mae: 5.1058\n",
            "Epoch 97/100\n",
            "31/31 [==============================] - 0s 9ms/step - loss: 4.6147 - mae: 5.0882\n",
            "Epoch 98/100\n",
            "31/31 [==============================] - 0s 9ms/step - loss: 4.6743 - mae: 5.1541\n",
            "Epoch 99/100\n",
            "31/31 [==============================] - 0s 9ms/step - loss: 4.7603 - mae: 5.2425\n",
            "Epoch 100/100\n",
            "31/31 [==============================] - 0s 10ms/step - loss: 4.6566 - mae: 5.1344\n"
          ]
        }
      ],
      "source": [
        "# Reset states generated by Keras\n",
        "tf.keras.backend.clear_session()\n",
        "\n",
        "# Build the model\n",
        "model = tf.keras.models.Sequential([\n",
        "  tf.keras.layers.Lambda(lambda x: tf.expand_dims(x, axis=-1),\n",
        "                      input_shape=[None]),\n",
        "   tf.keras.layers.Bidirectional(tf.keras.layers.LSTM(32, return_sequences=True)),\n",
        "  tf.keras.layers.Bidirectional(tf.keras.layers.LSTM(32)),\n",
        "  tf.keras.layers.Dense(1),\n",
        "  tf.keras.layers.Lambda(lambda x: x * 100.0)\n",
        "])\n",
        "\n",
        "# Set the learning rate\n",
        "learning_rate = 2e-6\n",
        "\n",
        "# Set the optimizer\n",
        "optimizer = tf.keras.optimizers.SGD(learning_rate=learning_rate, momentum=0.9)\n",
        "\n",
        "# Set the training parameters\n",
        "model.compile(loss=tf.keras.losses.Huber(),\n",
        "              optimizer=optimizer,\n",
        "              metrics=[\"mae\"])\n",
        "\n",
        "# Train the model\n",
        "history = model.fit(dataset,epochs=100)"
      ]
    },
    {
      "cell_type": "markdown",
      "metadata": {
        "id": "RjP4kbGiI7cw"
      },
      "source": [
        "## Model Prediction\n",
        "\n",
        "You will then generate batches of windows to generate predictions that align with the validation set."
      ]
    },
    {
      "cell_type": "code",
      "execution_count": 12,
      "metadata": {
        "id": "QO8cfKwKBBG6"
      },
      "outputs": [],
      "source": [
        "def model_forecast(model, series, window_size, batch_size):\n",
        "    \"\"\"Uses an input model to generate predictions on data windows\n",
        "\n",
        "    Args:\n",
        "      model (TF Keras Model) - model that accepts data windows\n",
        "      series (array of float) - contains the values of the time series\n",
        "      window_size (int) - the number of time steps to include in the window\n",
        "      batch_size (int) - the batch size\n",
        "\n",
        "    Returns:\n",
        "      forecast (numpy array) - array containing predictions\n",
        "    \"\"\"\n",
        "\n",
        "    # Generate a TF Dataset from the series values\n",
        "    dataset = tf.data.Dataset.from_tensor_slices(series)\n",
        "\n",
        "    # Window the data but only take those with the specified size\n",
        "    dataset = dataset.window(window_size, shift=1, drop_remainder=True)\n",
        "\n",
        "    # Flatten the windows by putting its elements in a single batch\n",
        "    dataset = dataset.flat_map(lambda w: w.batch(window_size))\n",
        "\n",
        "    # Create batches of windows\n",
        "    dataset = dataset.batch(batch_size).prefetch(1)\n",
        "\n",
        "    # Get predictions on the entire dataset\n",
        "    forecast = model.predict(dataset)\n",
        "\n",
        "    return forecast"
      ]
    },
    {
      "cell_type": "code",
      "execution_count": 13,
      "metadata": {
        "id": "_plB3UseBD8o",
        "colab": {
          "base_uri": "https://localhost:8080/",
          "height": 559
        },
        "outputId": "c7b744ef-ad95-4992-cd82-d82e5a3ba48d"
      },
      "outputs": [
        {
          "output_type": "stream",
          "name": "stdout",
          "text": [
            "15/15 [==============================] - 1s 9ms/step\n"
          ]
        },
        {
          "output_type": "display_data",
          "data": {
            "text/plain": [
              "<Figure size 1000x600 with 1 Axes>"
            ],
            "image/png": "[encoded data removed]"
          },
          "metadata": {}
        }
      ],
      "source": [
        "# Reduce the original series\n",
        "forecast_series = series[split_time-window_size:-1]\n",
        "\n",
        "# Use helper function to generate predictions\n",
        "forecast = model_forecast(model, forecast_series, window_size, batch_size)\n",
        "\n",
        "# Drop single dimensional axis\n",
        "results = forecast.squeeze()\n",
        "\n",
        "# Plot the results\n",
        "plot_series(time_valid, (x_valid, results))"
      ]
    },
    {
      "cell_type": "markdown",
      "metadata": {
        "id": "Nn8iSQkZtaRC"
      },
      "source": [
        "You can then generate the metrics to evaluate the model's performance."
      ]
    },
    {
      "cell_type": "code",
      "execution_count": 14,
      "metadata": {
        "id": "-IKhueZaBGID",
        "colab": {
          "base_uri": "https://localhost:8080/"
        },
        "outputId": "c554c942-781c-4842-b166-5c30233ea5ef"
      },
      "outputs": [
        {
          "output_type": "stream",
          "name": "stdout",
          "text": [
            "80.516685\n",
            "6.4462028\n"
          ]
        }
      ],
      "source": [
        "# Compute the MSE and MAE\n",
        "print(tf.keras.metrics.mean_squared_error(x_valid, results).numpy())\n",
        "print(tf.keras.metrics.mean_absolute_error(x_valid, results).numpy())"
      ]
    },
    {
      "cell_type": "markdown",
      "metadata": {
        "id": "bzPIqeMWvbPy"
      },
      "source": [
        "## Wrap Up\n",
        "\n",
        "This concludes this short exercise on using LSTMs for time series forecasting. Next week, you will build upon this and add convolutions. Then, you will start to move away from synthetic data and use real-world datasets. See you there!"
      ]
    },
    {
      "cell_type": "markdown",
      "metadata": {
        "id": "U5PqTePGHeMH"
      },
      "source": [
        "## Optional: Including a Validation Set while Training\n",
        "\n",
        "Back in the first course of this specialization, you saw how you can also monitor the performance of your model against a validation set while training. You can also do that for this lab.\n",
        "\n",
        "First, you need to generate a `val_set` which are data windows and labels that your model can accept. You can simply reuse the `windowed_dataset` function for that and you can pass in the `x_valid` points to generate the windows."
      ]
    },
    {
      "cell_type": "code",
      "execution_count": 15,
      "metadata": {
        "id": "kvFVwL3PC4iX"
      },
      "outputs": [],
      "source": [
        "# Generate data windows of the validation set\n",
        "val_set = windowed_dataset(x_valid, window_size, batch_size, shuffle_buffer_size)"
      ]
    },
    {
      "cell_type": "markdown",
      "metadata": {
        "id": "p68j6XxEvP9K"
      },
      "source": [
        "You can then do the same training as before but pass in the `val_set` to the `validation_data` parameter of the `fit()` method."
      ]
    },
    {
      "cell_type": "code",
      "execution_count": 16,
      "metadata": {
        "id": "wujKz6tXDSn0",
        "colab": {
          "base_uri": "https://localhost:8080/"
        },
        "outputId": "81e78fee-dcb2-4b29-9cdd-54e0322868a1"
      },
      "outputs": [
        {
          "output_type": "stream",
          "name": "stdout",
          "text": [
            "Epoch 1/100\n",
            "31/31 [==============================] - 8s 76ms/step - loss: 11.7395 - mae: 12.2307 - val_loss: 26.9117 - val_mae: 27.4110\n",
            "Epoch 2/100\n",
            "31/31 [==============================] - 1s 13ms/step - loss: 8.2244 - mae: 8.7062 - val_loss: 20.9704 - val_mae: 21.4675\n",
            "Epoch 3/100\n",
            "31/31 [==============================] - 1s 13ms/step - loss: 7.0331 - mae: 7.5164 - val_loss: 16.1459 - val_mae: 16.6413\n",
            "Epoch 4/100\n",
            "31/31 [==============================] - 1s 14ms/step - loss: 6.5964 - mae: 7.0806 - val_loss: 15.0050 - val_mae: 15.5014\n",
            "Epoch 5/100\n",
            "31/31 [==============================] - 1s 13ms/step - loss: 6.3194 - mae: 6.7993 - val_loss: 12.9641 - val_mae: 13.4574\n",
            "Epoch 6/100\n",
            "31/31 [==============================] - 1s 13ms/step - loss: 6.1102 - mae: 6.5915 - val_loss: 12.1335 - val_mae: 12.6244\n",
            "Epoch 7/100\n",
            "31/31 [==============================] - 1s 14ms/step - loss: 5.9783 - mae: 6.4603 - val_loss: 11.8332 - val_mae: 12.3270\n",
            "Epoch 8/100\n",
            "31/31 [==============================] - 1s 13ms/step - loss: 5.8377 - mae: 6.3132 - val_loss: 11.4973 - val_mae: 11.9931\n",
            "Epoch 9/100\n",
            "31/31 [==============================] - 1s 13ms/step - loss: 5.8541 - mae: 6.3318 - val_loss: 10.8140 - val_mae: 11.3073\n",
            "Epoch 10/100\n",
            "31/31 [==============================] - 0s 12ms/step - loss: 5.6513 - mae: 6.1281 - val_loss: 9.7446 - val_mae: 10.2328\n",
            "Epoch 11/100\n",
            "31/31 [==============================] - 1s 13ms/step - loss: 5.5885 - mae: 6.0677 - val_loss: 9.5168 - val_mae: 10.0042\n",
            "Epoch 12/100\n",
            "31/31 [==============================] - 1s 13ms/step - loss: 5.4797 - mae: 5.9550 - val_loss: 9.2800 - val_mae: 9.7672\n",
            "Epoch 13/100\n",
            "31/31 [==============================] - 1s 13ms/step - loss: 5.4308 - mae: 5.9113 - val_loss: 9.4737 - val_mae: 9.9640\n",
            "Epoch 14/100\n",
            "31/31 [==============================] - 0s 13ms/step - loss: 5.3785 - mae: 5.8584 - val_loss: 9.1604 - val_mae: 9.6478\n",
            "Epoch 15/100\n",
            "31/31 [==============================] - 1s 14ms/step - loss: 5.2905 - mae: 5.7679 - val_loss: 8.6085 - val_mae: 9.0922\n",
            "Epoch 16/100\n",
            "31/31 [==============================] - 0s 13ms/step - loss: 5.3049 - mae: 5.7842 - val_loss: 7.6063 - val_mae: 8.0907\n",
            "Epoch 17/100\n",
            "31/31 [==============================] - 1s 15ms/step - loss: 5.2181 - mae: 5.6951 - val_loss: 7.9844 - val_mae: 8.4707\n",
            "Epoch 18/100\n",
            "31/31 [==============================] - 1s 24ms/step - loss: 5.1446 - mae: 5.6219 - val_loss: 8.5974 - val_mae: 9.0851\n",
            "Epoch 19/100\n",
            "31/31 [==============================] - 1s 19ms/step - loss: 5.1095 - mae: 5.5869 - val_loss: 7.4967 - val_mae: 7.9860\n",
            "Epoch 20/100\n",
            "31/31 [==============================] - 0s 13ms/step - loss: 5.1722 - mae: 5.6509 - val_loss: 8.0945 - val_mae: 8.5802\n",
            "Epoch 21/100\n",
            "31/31 [==============================] - 0s 13ms/step - loss: 5.0887 - mae: 5.5662 - val_loss: 7.4403 - val_mae: 7.9284\n",
            "Epoch 22/100\n",
            "31/31 [==============================] - 1s 14ms/step - loss: 5.0246 - mae: 5.5014 - val_loss: 7.5563 - val_mae: 8.0392\n",
            "Epoch 23/100\n",
            "31/31 [==============================] - 1s 13ms/step - loss: 4.9914 - mae: 5.4686 - val_loss: 7.3883 - val_mae: 7.8733\n",
            "Epoch 24/100\n",
            "31/31 [==============================] - 1s 13ms/step - loss: 4.9963 - mae: 5.4764 - val_loss: 7.3269 - val_mae: 7.8116\n",
            "Epoch 25/100\n",
            "31/31 [==============================] - 0s 13ms/step - loss: 4.9620 - mae: 5.4389 - val_loss: 7.5118 - val_mae: 7.9949\n",
            "Epoch 26/100\n",
            "31/31 [==============================] - 0s 13ms/step - loss: 4.9417 - mae: 5.4199 - val_loss: 7.4954 - val_mae: 7.9787\n",
            "Epoch 27/100\n",
            "31/31 [==============================] - 0s 13ms/step - loss: 4.9815 - mae: 5.4561 - val_loss: 7.1729 - val_mae: 7.6563\n",
            "Epoch 28/100\n",
            "31/31 [==============================] - 1s 14ms/step - loss: 4.9559 - mae: 5.4348 - val_loss: 6.8221 - val_mae: 7.3066\n",
            "Epoch 29/100\n",
            "31/31 [==============================] - 0s 13ms/step - loss: 4.8307 - mae: 5.3086 - val_loss: 7.1718 - val_mae: 7.6536\n",
            "Epoch 30/100\n",
            "31/31 [==============================] - 1s 13ms/step - loss: 4.8858 - mae: 5.3619 - val_loss: 8.2401 - val_mae: 8.7292\n",
            "Epoch 31/100\n",
            "31/31 [==============================] - 0s 12ms/step - loss: 4.8644 - mae: 5.3385 - val_loss: 7.1248 - val_mae: 7.6071\n",
            "Epoch 32/100\n",
            "31/31 [==============================] - 1s 13ms/step - loss: 4.7797 - mae: 5.2572 - val_loss: 7.4614 - val_mae: 7.9459\n",
            "Epoch 33/100\n",
            "31/31 [==============================] - 0s 13ms/step - loss: 4.7902 - mae: 5.2658 - val_loss: 7.6682 - val_mae: 8.1522\n",
            "Epoch 34/100\n",
            "31/31 [==============================] - 1s 13ms/step - loss: 4.7513 - mae: 5.2272 - val_loss: 7.1381 - val_mae: 7.6205\n",
            "Epoch 35/100\n",
            "31/31 [==============================] - 1s 14ms/step - loss: 4.7009 - mae: 5.1770 - val_loss: 6.9809 - val_mae: 7.4633\n",
            "Epoch 36/100\n",
            "31/31 [==============================] - 1s 13ms/step - loss: 4.6835 - mae: 5.1621 - val_loss: 7.4773 - val_mae: 7.9593\n",
            "Epoch 37/100\n",
            "31/31 [==============================] - 1s 13ms/step - loss: 4.6922 - mae: 5.1666 - val_loss: 7.3551 - val_mae: 7.8369\n",
            "Epoch 38/100\n",
            "31/31 [==============================] - 1s 19ms/step - loss: 4.6934 - mae: 5.1683 - val_loss: 7.1457 - val_mae: 7.6264\n",
            "Epoch 39/100\n",
            "31/31 [==============================] - 1s 23ms/step - loss: 4.6964 - mae: 5.1767 - val_loss: 6.6586 - val_mae: 7.1397\n",
            "Epoch 40/100\n",
            "31/31 [==============================] - 1s 13ms/step - loss: 4.6602 - mae: 5.1357 - val_loss: 7.1353 - val_mae: 7.6166\n",
            "Epoch 41/100\n",
            "31/31 [==============================] - 1s 15ms/step - loss: 4.6224 - mae: 5.0965 - val_loss: 6.3928 - val_mae: 6.8773\n",
            "Epoch 42/100\n",
            "31/31 [==============================] - 0s 13ms/step - loss: 4.7175 - mae: 5.1934 - val_loss: 6.5188 - val_mae: 7.0014\n",
            "Epoch 43/100\n",
            "31/31 [==============================] - 1s 14ms/step - loss: 4.6456 - mae: 5.1230 - val_loss: 6.7864 - val_mae: 7.2710\n",
            "Epoch 44/100\n",
            "31/31 [==============================] - 0s 13ms/step - loss: 4.5903 - mae: 5.0691 - val_loss: 6.8931 - val_mae: 7.3734\n",
            "Epoch 45/100\n",
            "31/31 [==============================] - 0s 13ms/step - loss: 4.5731 - mae: 5.0502 - val_loss: 6.9593 - val_mae: 7.4390\n",
            "Epoch 46/100\n",
            "31/31 [==============================] - 0s 13ms/step - loss: 4.5799 - mae: 5.0540 - val_loss: 6.5302 - val_mae: 7.0101\n",
            "Epoch 47/100\n",
            "31/31 [==============================] - 1s 14ms/step - loss: 4.5941 - mae: 5.0665 - val_loss: 7.2714 - val_mae: 7.7558\n",
            "Epoch 48/100\n",
            "31/31 [==============================] - 1s 14ms/step - loss: 4.7162 - mae: 5.1934 - val_loss: 8.1759 - val_mae: 8.6642\n",
            "Epoch 49/100\n",
            "31/31 [==============================] - 1s 13ms/step - loss: 4.6652 - mae: 5.1450 - val_loss: 6.7172 - val_mae: 7.2009\n",
            "Epoch 50/100\n",
            "31/31 [==============================] - 1s 13ms/step - loss: 4.5406 - mae: 5.0166 - val_loss: 6.4380 - val_mae: 6.9187\n",
            "Epoch 51/100\n",
            "31/31 [==============================] - 1s 13ms/step - loss: 4.5918 - mae: 5.0663 - val_loss: 6.1583 - val_mae: 6.6396\n",
            "Epoch 52/100\n",
            "31/31 [==============================] - 1s 14ms/step - loss: 4.5697 - mae: 5.0432 - val_loss: 6.2924 - val_mae: 6.7751\n",
            "Epoch 53/100\n",
            "31/31 [==============================] - 0s 13ms/step - loss: 4.5207 - mae: 4.9957 - val_loss: 6.8709 - val_mae: 7.3488\n",
            "Epoch 54/100\n",
            "31/31 [==============================] - 1s 14ms/step - loss: 4.5416 - mae: 5.0164 - val_loss: 7.1476 - val_mae: 7.6306\n",
            "Epoch 55/100\n",
            "31/31 [==============================] - 1s 14ms/step - loss: 4.6020 - mae: 5.0777 - val_loss: 7.3972 - val_mae: 7.8858\n",
            "Epoch 56/100\n",
            "31/31 [==============================] - 1s 14ms/step - loss: 4.6640 - mae: 5.1398 - val_loss: 6.8149 - val_mae: 7.2924\n",
            "Epoch 57/100\n",
            "31/31 [==============================] - 0s 13ms/step - loss: 4.5578 - mae: 5.0349 - val_loss: 6.3020 - val_mae: 6.7851\n",
            "Epoch 58/100\n",
            "31/31 [==============================] - 1s 22ms/step - loss: 4.4864 - mae: 4.9664 - val_loss: 6.9565 - val_mae: 7.4373\n",
            "Epoch 59/100\n",
            "31/31 [==============================] - 1s 19ms/step - loss: 4.5279 - mae: 5.0046 - val_loss: 7.2251 - val_mae: 7.7118\n",
            "Epoch 60/100\n",
            "31/31 [==============================] - 0s 13ms/step - loss: 4.5084 - mae: 4.9826 - val_loss: 6.7231 - val_mae: 7.2012\n",
            "Epoch 61/100\n",
            "31/31 [==============================] - 1s 13ms/step - loss: 4.4733 - mae: 4.9482 - val_loss: 6.0313 - val_mae: 6.5127\n",
            "Epoch 62/100\n",
            "31/31 [==============================] - 1s 13ms/step - loss: 4.5112 - mae: 4.9852 - val_loss: 5.9655 - val_mae: 6.4440\n",
            "Epoch 63/100\n",
            "31/31 [==============================] - 1s 14ms/step - loss: 4.5301 - mae: 5.0056 - val_loss: 5.8189 - val_mae: 6.3057\n",
            "Epoch 64/100\n",
            "31/31 [==============================] - 1s 14ms/step - loss: 4.5157 - mae: 4.9928 - val_loss: 5.8131 - val_mae: 6.2996\n",
            "Epoch 65/100\n",
            "31/31 [==============================] - 0s 13ms/step - loss: 4.5380 - mae: 5.0140 - val_loss: 6.1247 - val_mae: 6.6059\n",
            "Epoch 66/100\n",
            "31/31 [==============================] - 1s 14ms/step - loss: 4.6055 - mae: 5.0841 - val_loss: 6.0872 - val_mae: 6.5669\n",
            "Epoch 67/100\n",
            "31/31 [==============================] - 1s 15ms/step - loss: 4.5941 - mae: 5.0671 - val_loss: 6.0985 - val_mae: 6.5789\n",
            "Epoch 68/100\n",
            "31/31 [==============================] - 1s 14ms/step - loss: 4.5097 - mae: 4.9833 - val_loss: 7.2747 - val_mae: 7.7618\n",
            "Epoch 69/100\n",
            "31/31 [==============================] - 1s 13ms/step - loss: 4.5287 - mae: 5.0048 - val_loss: 6.0465 - val_mae: 6.5252\n",
            "Epoch 70/100\n",
            "31/31 [==============================] - 1s 13ms/step - loss: 4.5370 - mae: 5.0177 - val_loss: 6.0287 - val_mae: 6.5080\n",
            "Epoch 71/100\n",
            "31/31 [==============================] - 1s 14ms/step - loss: 4.4689 - mae: 4.9439 - val_loss: 6.1803 - val_mae: 6.6649\n",
            "Epoch 72/100\n",
            "31/31 [==============================] - 1s 13ms/step - loss: 4.4512 - mae: 4.9286 - val_loss: 6.4550 - val_mae: 6.9338\n",
            "Epoch 73/100\n",
            "31/31 [==============================] - 1s 13ms/step - loss: 4.5223 - mae: 4.9957 - val_loss: 7.2316 - val_mae: 7.7199\n",
            "Epoch 74/100\n",
            "31/31 [==============================] - 1s 13ms/step - loss: 4.5766 - mae: 5.0561 - val_loss: 6.3775 - val_mae: 6.8560\n",
            "Epoch 75/100\n",
            "31/31 [==============================] - 1s 13ms/step - loss: 4.4649 - mae: 4.9369 - val_loss: 6.6563 - val_mae: 7.1368\n",
            "Epoch 76/100\n",
            "31/31 [==============================] - 0s 13ms/step - loss: 4.4586 - mae: 4.9336 - val_loss: 7.2582 - val_mae: 7.7470\n",
            "Epoch 77/100\n",
            "31/31 [==============================] - 1s 24ms/step - loss: 4.4685 - mae: 4.9473 - val_loss: 6.1353 - val_mae: 6.6180\n",
            "Epoch 78/100\n",
            "31/31 [==============================] - 1s 18ms/step - loss: 4.4406 - mae: 4.9190 - val_loss: 5.9762 - val_mae: 6.4599\n",
            "Epoch 79/100\n",
            "31/31 [==============================] - 0s 13ms/step - loss: 4.4856 - mae: 4.9624 - val_loss: 6.2390 - val_mae: 6.7155\n",
            "Epoch 80/100\n",
            "31/31 [==============================] - 1s 14ms/step - loss: 4.4902 - mae: 4.9687 - val_loss: 6.4791 - val_mae: 6.9579\n",
            "Epoch 81/100\n",
            "31/31 [==============================] - 0s 13ms/step - loss: 4.4764 - mae: 4.9526 - val_loss: 5.6240 - val_mae: 6.1075\n",
            "Epoch 82/100\n",
            "31/31 [==============================] - 1s 13ms/step - loss: 4.5224 - mae: 4.9984 - val_loss: 5.6981 - val_mae: 6.1838\n",
            "Epoch 83/100\n",
            "31/31 [==============================] - 1s 13ms/step - loss: 4.6743 - mae: 5.1535 - val_loss: 6.0624 - val_mae: 6.5470\n",
            "Epoch 84/100\n",
            "31/31 [==============================] - 0s 13ms/step - loss: 4.4288 - mae: 4.9041 - val_loss: 5.9534 - val_mae: 6.4367\n",
            "Epoch 85/100\n",
            "31/31 [==============================] - 1s 14ms/step - loss: 4.4281 - mae: 4.9052 - val_loss: 5.9823 - val_mae: 6.4661\n",
            "Epoch 86/100\n",
            "31/31 [==============================] - 1s 14ms/step - loss: 4.4994 - mae: 4.9748 - val_loss: 5.7528 - val_mae: 6.2371\n",
            "Epoch 87/100\n",
            "31/31 [==============================] - 1s 13ms/step - loss: 4.4733 - mae: 4.9491 - val_loss: 6.0551 - val_mae: 6.5369\n",
            "Epoch 88/100\n",
            "31/31 [==============================] - 1s 13ms/step - loss: 4.5461 - mae: 5.0222 - val_loss: 6.5409 - val_mae: 7.0206\n",
            "Epoch 89/100\n",
            "31/31 [==============================] - 1s 14ms/step - loss: 4.4361 - mae: 4.9136 - val_loss: 6.0591 - val_mae: 6.5389\n",
            "Epoch 90/100\n",
            "31/31 [==============================] - 1s 14ms/step - loss: 4.4304 - mae: 4.9049 - val_loss: 5.6075 - val_mae: 6.0900\n",
            "Epoch 91/100\n",
            "31/31 [==============================] - 0s 13ms/step - loss: 4.7848 - mae: 5.2611 - val_loss: 5.5394 - val_mae: 6.0132\n",
            "Epoch 92/100\n",
            "31/31 [==============================] - 1s 13ms/step - loss: 4.4752 - mae: 4.9487 - val_loss: 6.0985 - val_mae: 6.5802\n",
            "Epoch 93/100\n",
            "31/31 [==============================] - 1s 15ms/step - loss: 4.4250 - mae: 4.9010 - val_loss: 6.0677 - val_mae: 6.5507\n",
            "Epoch 94/100\n",
            "31/31 [==============================] - 1s 13ms/step - loss: 4.4588 - mae: 4.9386 - val_loss: 5.7159 - val_mae: 6.1992\n",
            "Epoch 95/100\n",
            "31/31 [==============================] - 1s 14ms/step - loss: 4.4452 - mae: 4.9223 - val_loss: 6.0897 - val_mae: 6.5705\n",
            "Epoch 96/100\n",
            "31/31 [==============================] - 1s 24ms/step - loss: 4.4031 - mae: 4.8825 - val_loss: 5.6736 - val_mae: 6.1554\n",
            "Epoch 97/100\n",
            "31/31 [==============================] - 1s 24ms/step - loss: 4.4573 - mae: 4.9329 - val_loss: 5.8218 - val_mae: 6.3038\n",
            "Epoch 98/100\n",
            "31/31 [==============================] - 1s 13ms/step - loss: 4.4185 - mae: 4.8935 - val_loss: 5.7593 - val_mae: 6.2422\n",
            "Epoch 99/100\n",
            "31/31 [==============================] - 0s 13ms/step - loss: 4.5805 - mae: 5.0559 - val_loss: 6.1700 - val_mae: 6.6483\n",
            "Epoch 100/100\n",
            "31/31 [==============================] - 1s 14ms/step - loss: 4.4294 - mae: 4.9035 - val_loss: 5.8520 - val_mae: 6.3318\n"
          ]
        }
      ],
      "source": [
        "# Reset states generated by Keras\n",
        "tf.keras.backend.clear_session()\n",
        "\n",
        "# Build the model\n",
        "model = tf.keras.models.Sequential([\n",
        "  tf.keras.layers.Lambda(lambda x: tf.expand_dims(x, axis=-1),\n",
        "                      input_shape=[None]),\n",
        "   tf.keras.layers.Bidirectional(tf.keras.layers.LSTM(32, return_sequences=True)),\n",
        "  tf.keras.layers.Bidirectional(tf.keras.layers.LSTM(32)),\n",
        "  tf.keras.layers.Dense(1),\n",
        "  tf.keras.layers.Lambda(lambda x: x * 100.0)\n",
        "])\n",
        "\n",
        "# Set the learning rate\n",
        "learning_rate = 2e-6\n",
        "\n",
        "# Set the optimizer\n",
        "optimizer = tf.keras.optimizers.SGD(learning_rate=learning_rate, momentum=0.9)\n",
        "\n",
        "# Set the training parameters\n",
        "model.compile(loss=tf.keras.losses.Huber(),\n",
        "              optimizer=optimizer,\n",
        "              metrics=[\"mae\"])\n",
        "\n",
        "# Train the model\n",
        "history = model.fit(dataset,epochs=100, validation_data=val_set)"
      ]
    }
  ],
  "metadata": {
    "accelerator": "GPU",
    "colab": {
      "provenance": [],
      "gpuType": "T4",
      "include_colab_link": true
    },
    "kernelspec": {
      "display_name": "Python 3",
      "name": "python3"
    },
    "language_info": {
      "codemirror_mode": {
        "name": "ipython",
        "version": 3
      },
      "file_extension": ".py",
      "mimetype": "text/x-python",
      "name": "python",
      "nbconvert_exporter": "python",
      "pygments_lexer": "ipython3",
      "version": "3.7.4"
    }
  },
  "nbformat": 4,
  "nbformat_minor": 0
}